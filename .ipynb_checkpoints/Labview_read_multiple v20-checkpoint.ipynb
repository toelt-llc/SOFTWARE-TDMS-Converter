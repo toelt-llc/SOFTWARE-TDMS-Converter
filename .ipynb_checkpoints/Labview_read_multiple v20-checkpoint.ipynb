{
 "cells": [
  {
   "cell_type": "markdown",
   "metadata": {},
   "source": [
    "# Program to view multiple .tdms files\n",
    "\n",
    "(c) F.Venturini, U. Michelucci 2017\n",
    "\n",
    "Loads all files in the directory\n",
    "Plots first or average of repetitions; works for only one step\n",
    "Loads the averaged raw data\n",
    "\n",
    "Units of the x-axis is Volt\n",
    "\n",
    "Last change: 15.01.2018"
   ]
  },
  {
   "cell_type": "code",
   "execution_count": 1,
   "metadata": {},
   "outputs": [],
   "source": [
    "import pandas as pd\n",
    "import numpy as np\n",
    "import matplotlib.pyplot as plt\n",
    "import os\n",
    "from nptdms import TdmsFile\n",
    "\n",
    "from tdmsUtils import tdmsConverter as tdmsc"
   ]
  },
  {
   "cell_type": "markdown",
   "metadata": {},
   "source": [
    "# Test of the package"
   ]
  },
  {
   "cell_type": "code",
   "execution_count": 2,
   "metadata": {},
   "outputs": [],
   "source": [
    "tc = tdmsc.tdmsConverter('./ExampleData/')\n",
    "list_of_files = tc.generateFileList(debug = False)\n",
    "channels, nrc = tc.convertToList(list_of_files, debug = False)\n",
    "df , total_number_of_channels = tc.convertToList(list_of_files, debug = False)"
   ]
  },
  {
   "cell_type": "code",
   "execution_count": 3,
   "metadata": {},
   "outputs": [
    {
     "name": "stdout",
     "output_type": "stream",
     "text": [
      "Averaging  ./ExampleData/0_cold_next_day.tdms\n",
      "                             filename  \\\n",
      "0  ./ExampleData/0_cold_next_day.tdms   \n",
      "\n",
      "                                             average  \n",
      "0  0      -146.392225\n",
      "1       -31.741365\n",
      "2       ...  \n",
      "Averaging  ./ExampleData/0_500_degree.tdms\n",
      "                          filename  \\\n",
      "0  ./ExampleData/0_500_degree.tdms   \n",
      "\n",
      "                                             average  \n",
      "0  0      -1.769700\n",
      "1      -0.507492\n",
      "2      -0.17...  \n"
     ]
    }
   ],
   "source": [
    "df_ = tc.averageFiles(df)"
   ]
  },
  {
   "cell_type": "code",
   "execution_count": 5,
   "metadata": {},
   "outputs": [
    {
     "data": {
      "text/plain": [
       "0    0      -146.392225\n",
       "1       -31.741365\n",
       "2       ...\n",
       "0    0      -1.769700\n",
       "1      -0.507492\n",
       "2      -0.17...\n",
       "Name: average, dtype: object"
      ]
     },
     "execution_count": 5,
     "metadata": {},
     "output_type": "execute_result"
    }
   ],
   "source": [
    "df_['average'].head()"
   ]
  },
  {
   "cell_type": "code",
   "execution_count": 3,
   "metadata": {},
   "outputs": [
    {
     "data": {
      "text/html": [
       "<div>\n",
       "<style scoped>\n",
       "    .dataframe tbody tr th:only-of-type {\n",
       "        vertical-align: middle;\n",
       "    }\n",
       "\n",
       "    .dataframe tbody tr th {\n",
       "        vertical-align: top;\n",
       "    }\n",
       "\n",
       "    .dataframe thead th {\n",
       "        text-align: right;\n",
       "    }\n",
       "</style>\n",
       "<table border=\"1\" class=\"dataframe\">\n",
       "  <thead>\n",
       "    <tr style=\"text-align: right;\">\n",
       "      <th></th>\n",
       "      <th>data</th>\n",
       "      <th>groupName</th>\n",
       "      <th>channelName</th>\n",
       "      <th>filename</th>\n",
       "    </tr>\n",
       "  </thead>\n",
       "  <tbody>\n",
       "    <tr>\n",
       "      <th>0</th>\n",
       "      <td>x         y\n",
       "0     0.970000 -2.358...</td>\n",
       "      <td>PD_Signal_0</td>\n",
       "      <td>Avg_Data_20190405 09:28:53.72</td>\n",
       "      <td>./ExampleData/0_cold_next_day.tdms</td>\n",
       "    </tr>\n",
       "    <tr>\n",
       "      <th>0</th>\n",
       "      <td>x         y\n",
       "0     0.970000 -2.359...</td>\n",
       "      <td>PD_Signal_0</td>\n",
       "      <td>Avg_Data_20190405 09:29:08.93</td>\n",
       "      <td>./ExampleData/0_cold_next_day.tdms</td>\n",
       "    </tr>\n",
       "    <tr>\n",
       "      <th>0</th>\n",
       "      <td>x         y\n",
       "0     0.970000 -2.359...</td>\n",
       "      <td>PD_Signal_0</td>\n",
       "      <td>Avg_Data_20190405 09:29:24.14</td>\n",
       "      <td>./ExampleData/0_cold_next_day.tdms</td>\n",
       "    </tr>\n",
       "    <tr>\n",
       "      <th>0</th>\n",
       "      <td>x         y\n",
       "0     0.970000 -2.358...</td>\n",
       "      <td>PD_Signal_0</td>\n",
       "      <td>Avg_Data_20190405 09:29:39.35</td>\n",
       "      <td>./ExampleData/0_cold_next_day.tdms</td>\n",
       "    </tr>\n",
       "    <tr>\n",
       "      <th>0</th>\n",
       "      <td>x         y\n",
       "0     0.970000 -2.358...</td>\n",
       "      <td>PD_Signal_0</td>\n",
       "      <td>Avg_Data_20190405 09:29:54.56</td>\n",
       "      <td>./ExampleData/0_cold_next_day.tdms</td>\n",
       "    </tr>\n",
       "  </tbody>\n",
       "</table>\n",
       "</div>"
      ],
      "text/plain": [
       "                                                data    groupName  \\\n",
       "0               x         y\n",
       "0     0.970000 -2.358...  PD_Signal_0   \n",
       "0               x         y\n",
       "0     0.970000 -2.359...  PD_Signal_0   \n",
       "0               x         y\n",
       "0     0.970000 -2.359...  PD_Signal_0   \n",
       "0               x         y\n",
       "0     0.970000 -2.358...  PD_Signal_0   \n",
       "0               x         y\n",
       "0     0.970000 -2.358...  PD_Signal_0   \n",
       "\n",
       "                     channelName                            filename  \n",
       "0  Avg_Data_20190405 09:28:53.72  ./ExampleData/0_cold_next_day.tdms  \n",
       "0  Avg_Data_20190405 09:29:08.93  ./ExampleData/0_cold_next_day.tdms  \n",
       "0  Avg_Data_20190405 09:29:24.14  ./ExampleData/0_cold_next_day.tdms  \n",
       "0  Avg_Data_20190405 09:29:39.35  ./ExampleData/0_cold_next_day.tdms  \n",
       "0  Avg_Data_20190405 09:29:54.56  ./ExampleData/0_cold_next_day.tdms  "
      ]
     },
     "execution_count": 3,
     "metadata": {},
     "output_type": "execute_result"
    }
   ],
   "source": [
    "df.head()"
   ]
  },
  {
   "cell_type": "code",
   "execution_count": 9,
   "metadata": {},
   "outputs": [
    {
     "name": "stdout",
     "output_type": "stream",
     "text": [
      "./ExampleData/0_cold_next_day.tdms\n",
      "5000\n",
      "./ExampleData/0_500_degree.tdms\n",
      "5000\n"
     ]
    }
   ],
   "source": [
    "for filename in df['filename'].unique():\n",
    "    print(filename)\n",
    "    df_tmp = df[df['filename'] == filename]\n",
    "    print(df_tmp.iloc[0]['data'].shape[0])"
   ]
  },
  {
   "cell_type": "code",
   "execution_count": 5,
   "metadata": {},
   "outputs": [
    {
     "data": {
      "image/png": "[encoded data removed]",
      "text/plain": [
       "<Figure size 432x288 with 1 Axes>"
      ]
     },
     "metadata": {
      "needs_background": "light"
     },
     "output_type": "display_data"
    }
   ],
   "source": [
    "for i in range(0,total_number_of_channels):\n",
    "    plt.plot(df.iloc[i]['data']['x'], df.iloc[i]['data']['y'])\n",
    "plt.show()"
   ]
  },
  {
   "cell_type": "code",
   "execution_count": 6,
   "metadata": {},
   "outputs": [
    {
     "name": "stdout",
     "output_type": "stream",
     "text": [
      "126\n"
     ]
    }
   ],
   "source": [
    "print(total_number_of_channels)"
   ]
  },
  {
   "cell_type": "markdown",
   "metadata": {},
   "source": [
    "### Load data and preparation"
   ]
  },
  {
   "cell_type": "code",
   "execution_count": 18,
   "metadata": {},
   "outputs": [
    {
     "name": "stdout",
     "output_type": "stream",
     "text": [
      "OrderedDict([('name', '0_500_degree'), ('Author', 'tazr'), ('Name', ''), ('Description', 'R_TEC = 6.750 kOhm, Verstärkung = 1E5'), ('Title', ''), ('Ramp_Frequency', 33.0), ('Step_Delay', 1.0), ('Sampling_Points', 5000), ('Oversampling', 500), ('No_of_Steps', 1), ('No_of_Repetitions', 2), ('Data_Structure', 0)])\n",
      "The following Groups and Channels are available:\n",
      "Reference\n",
      "PD_Signal_0\n",
      "<TdmsObject with path /'PD_Signal_0'/'Avg_Data_20190404 15:30:45.93'>\n",
      "<TdmsObject with path /'PD_Signal_0'/'Avg_Data_20190404 15:31:01.14'>\n"
     ]
    },
    {
     "ename": "KeyError",
     "evalue": "\"Invalid object path: /'PD_Signal_0'/'Avg_Data_0'\"",
     "output_type": "error",
     "traceback": [
      "\u001b[1;31m---------------------------------------------------------------------------\u001b[0m",
      "\u001b[1;31mKeyError\u001b[0m                                  Traceback (most recent call last)",
      "\u001b[1;32m~\\Anaconda3\\envs\\Tensorflow\\lib\\site-packages\\nptdms\\tdms.py\u001b[0m in \u001b[0;36mobject\u001b[1;34m(self, *path)\u001b[0m\n\u001b[0;32m    154\u001b[0m         \u001b[1;32mtry\u001b[0m\u001b[1;33m:\u001b[0m\u001b[1;33m\u001b[0m\u001b[0m\n\u001b[1;32m--> 155\u001b[1;33m             \u001b[1;32mreturn\u001b[0m \u001b[0mself\u001b[0m\u001b[1;33m.\u001b[0m\u001b[0mobjects\u001b[0m\u001b[1;33m[\u001b[0m\u001b[0mobject_path\u001b[0m\u001b[1;33m]\u001b[0m\u001b[1;33m\u001b[0m\u001b[0m\n\u001b[0m\u001b[0;32m    156\u001b[0m         \u001b[1;32mexcept\u001b[0m \u001b[0mKeyError\u001b[0m\u001b[1;33m:\u001b[0m\u001b[1;33m\u001b[0m\u001b[0m\n",
      "\u001b[1;31mKeyError\u001b[0m: \"/'PD_Signal_0'/'Avg_Data_0'\"",
      "\nDuring handling of the above exception, another exception occurred:\n",
      "\u001b[1;31mKeyError\u001b[0m                                  Traceback (most recent call last)",
      "\u001b[1;32m<ipython-input-18-9acbda5fdea9>\u001b[0m in \u001b[0;36m<module>\u001b[1;34m\u001b[0m\n\u001b[0;32m     20\u001b[0m     \u001b[1;32mfor\u001b[0m \u001b[0mi\u001b[0m \u001b[1;32min\u001b[0m \u001b[0mrange\u001b[0m\u001b[1;33m(\u001b[0m\u001b[0mnr\u001b[0m\u001b[1;33m)\u001b[0m\u001b[1;33m:\u001b[0m\u001b[1;33m\u001b[0m\u001b[0m\n\u001b[0;32m     21\u001b[0m         \u001b[0mchannelName\u001b[0m\u001b[1;33m=\u001b[0m\u001b[1;34m'Avg_Data_'\u001b[0m\u001b[1;33m+\u001b[0m\u001b[0mstr\u001b[0m\u001b[1;33m(\u001b[0m\u001b[0mi\u001b[0m\u001b[1;33m)\u001b[0m\u001b[1;33m\u001b[0m\u001b[0m\n\u001b[1;32m---> 22\u001b[1;33m         \u001b[0ms2\u001b[0m\u001b[1;33m=\u001b[0m\u001b[0mpd\u001b[0m\u001b[1;33m.\u001b[0m\u001b[0mSeries\u001b[0m\u001b[1;33m(\u001b[0m\u001b[0mtdms_file\u001b[0m\u001b[1;33m.\u001b[0m\u001b[0mobject\u001b[0m\u001b[1;33m(\u001b[0m\u001b[1;34m'PD_Signal_0'\u001b[0m\u001b[1;33m,\u001b[0m \u001b[0mchannelName\u001b[0m\u001b[1;33m)\u001b[0m\u001b[1;33m.\u001b[0m\u001b[0mdata\u001b[0m\u001b[1;33m)\u001b[0m\u001b[1;33m\u001b[0m\u001b[0m\n\u001b[0m\u001b[0;32m     23\u001b[0m         \u001b[0mdf_data\u001b[0m\u001b[1;33m=\u001b[0m\u001b[0mpd\u001b[0m\u001b[1;33m.\u001b[0m\u001b[0mconcat\u001b[0m\u001b[1;33m(\u001b[0m\u001b[1;33m[\u001b[0m\u001b[0ms1\u001b[0m\u001b[1;33m,\u001b[0m \u001b[0ms2\u001b[0m\u001b[1;33m]\u001b[0m\u001b[1;33m,\u001b[0m \u001b[0maxis\u001b[0m\u001b[1;33m=\u001b[0m\u001b[1;36m1\u001b[0m\u001b[1;33m)\u001b[0m\u001b[1;33m\u001b[0m\u001b[0m\n\u001b[0;32m     24\u001b[0m         \u001b[0mdf_data\u001b[0m\u001b[1;33m.\u001b[0m\u001b[0mcolumns\u001b[0m \u001b[1;33m=\u001b[0m \u001b[1;33m[\u001b[0m\u001b[1;34m'x'\u001b[0m\u001b[1;33m,\u001b[0m\u001b[1;34m'y'\u001b[0m\u001b[1;33m]\u001b[0m\u001b[1;33m\u001b[0m\u001b[0m\n",
      "\u001b[1;32m~\\Anaconda3\\envs\\Tensorflow\\lib\\site-packages\\nptdms\\tdms.py\u001b[0m in \u001b[0;36mobject\u001b[1;34m(self, *path)\u001b[0m\n\u001b[0;32m    155\u001b[0m             \u001b[1;32mreturn\u001b[0m \u001b[0mself\u001b[0m\u001b[1;33m.\u001b[0m\u001b[0mobjects\u001b[0m\u001b[1;33m[\u001b[0m\u001b[0mobject_path\u001b[0m\u001b[1;33m]\u001b[0m\u001b[1;33m\u001b[0m\u001b[0m\n\u001b[0;32m    156\u001b[0m         \u001b[1;32mexcept\u001b[0m \u001b[0mKeyError\u001b[0m\u001b[1;33m:\u001b[0m\u001b[1;33m\u001b[0m\u001b[0m\n\u001b[1;32m--> 157\u001b[1;33m             \u001b[1;32mraise\u001b[0m \u001b[0mKeyError\u001b[0m\u001b[1;33m(\u001b[0m\u001b[1;34m\"Invalid object path: %s\"\u001b[0m \u001b[1;33m%\u001b[0m \u001b[0mobject_path\u001b[0m\u001b[1;33m)\u001b[0m\u001b[1;33m\u001b[0m\u001b[0m\n\u001b[0m\u001b[0;32m    158\u001b[0m \u001b[1;33m\u001b[0m\u001b[0m\n\u001b[0;32m    159\u001b[0m     \u001b[1;32mdef\u001b[0m \u001b[0mgroups\u001b[0m\u001b[1;33m(\u001b[0m\u001b[0mself\u001b[0m\u001b[1;33m)\u001b[0m\u001b[1;33m:\u001b[0m\u001b[1;33m\u001b[0m\u001b[0m\n",
      "\u001b[1;31mKeyError\u001b[0m: \"Invalid object path: /'PD_Signal_0'/'Avg_Data_0'\""
     ]
    },
    {
     "data": {
      "text/plain": [
       "<Figure size 576x432 with 0 Axes>"
      ]
     },
     "metadata": {},
     "output_type": "display_data"
    }
   ],
   "source": [
    "fig=plt.figure(figsize=(8,6))\n",
    "\n",
    "for filename in dat_files:\n",
    "    tdms_file = TdmsFile(filename)\n",
    "    nsp=tdms_file.object().property(\"Sampling_Points\")\n",
    "    nr=tdms_file.object().property(\"No_of_Repetitions\")\n",
    "\n",
    "    print(tdms_file.object().properties)\n",
    "    \n",
    "    print(\"The following Groups and Channels are available:\")\n",
    "    for group in tdms_file.groups():\n",
    "        print(group)\n",
    "    for channel in tdms_file.group_channels(group):\n",
    "        print(channel)\n",
    "\n",
    "    s1 = pd.Series(tdms_file.object('Reference', 'Ramp_Output').data)\n",
    "\n",
    "    channels=[]\n",
    "\n",
    "    for i in range(nr):\n",
    "        channelName='Avg_Data_'+str(i)\n",
    "        s2=pd.Series(tdms_file.object('PD_Signal_0', channelName).data)\n",
    "        df_data=pd.concat([s1, s2], axis=1)\n",
    "        df_data.columns = ['x','y']\n",
    "        channels.append(df_data)\n",
    "        #plt.plot(df_data['x'], df_data['y'],label='average')\n",
    "    #plt.show()\n",
    "\n",
    "    yAverage=np.zeros(nsp)\n",
    "\n",
    "#Set nrr=1 if only first channel to be considered;\n",
    "#set nrr=i if average of the first i channels to be considered;\n",
    "#set nrr=nr for average on all available channels\n",
    "    nrr=1\n",
    "    for i in range(nrr):\n",
    "        yAverage=yAverage+channels[i]['y']\n",
    "    \n",
    "    yAverage=np.divide(yAverage,nrr)\n",
    "\n",
    "    df_data=pd.concat([s1, pd.Series(yAverage)], axis=1)\n",
    "    df_data.columns = ['x','y']\n",
    "    plt.plot(df_data['x'], df_data['y'],label=filename)\n",
    "\n",
    "    \n",
    "#plt.xlim(1.0,2.45)\n",
    "#plt.ylim(-3.75,-0.0)\n",
    "#legend inside the plot:\n",
    "#plt.legend(loc='upper right')\n",
    "\n",
    "#legend outside the plot:\n",
    "plt.legend(bbox_to_anchor=(1.05, 1), loc=2, borderaxespad=0.)\n",
    "\n",
    "plt.xlabel(\"Laser Sweep (V)\")\n",
    "plt.ylabel(\"Photodiode Signal (V)\")\n",
    "plt.show()"
   ]
  },
  {
   "cell_type": "code",
   "execution_count": 7,
   "metadata": {
    "collapsed": true
   },
   "outputs": [],
   "source": [
    "fig.savefig('Raw_data_heating.pdf', format='pdf', dpi=300,bbox_inches='tight')"
   ]
  },
  {
   "cell_type": "code",
   "execution_count": null,
   "metadata": {
    "collapsed": true
   },
   "outputs": [],
   "source": []
  }
 ],
 "metadata": {
  "kernelspec": {
   "display_name": "Python 3",
   "language": "python",
   "name": "python3"
  },
  "language_info": {
   "codemirror_mode": {
    "name": "ipython",
    "version": 3
   },
   "file_extension": ".py",
   "mimetype": "text/x-python",
   "name": "python",
   "nbconvert_exporter": "python",
   "pygments_lexer": "ipython3",
   "version": "3.7.2"
  }
 },
 "nbformat": 4,
 "nbformat_minor": 2
}
